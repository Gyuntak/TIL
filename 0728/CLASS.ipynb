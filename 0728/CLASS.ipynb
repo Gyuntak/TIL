{
 "cells": [
  {
   "cell_type": "code",
   "execution_count": 6,
   "metadata": {},
   "outputs": [],
   "source": [
    "class Dog1 :\n",
    "    kind = 'caine' # 클래스 변수\n",
    "\n",
    "    def __init__(self, name) :\n",
    "        self.name = name # 인스턴스 변수"
   ]
  },
  {
   "cell_type": "code",
   "execution_count": 9,
   "metadata": {},
   "outputs": [
    {
     "name": "stdout",
     "output_type": "stream",
     "text": [
      "-Dog1-\n"
     ]
    }
   ],
   "source": [
    "print('-Dog1-')\n",
    "ch_dog = Dog1('개')\n",
    "ej_dog = Dog1('ZzangA')"
   ]
  },
  {
   "cell_type": "code",
   "execution_count": 14,
   "metadata": {},
   "outputs": [
    {
     "name": "stdout",
     "output_type": "stream",
     "text": [
      "<__main__.Dog1 object at 0x000001E8F4BCEE80>\n",
      "<__main__.Dog1 object at 0x000001E8F4BCEB20>\n",
      "개\n",
      "ZzangA\n",
      "caine\n",
      "caine\n"
     ]
    }
   ],
   "source": [
    "print(ch_dog)\n",
    "print(ej_dog)\n",
    "print(ch_dog.name)\n",
    "print(ej_dog.name)\n",
    "Dog1.kind\n",
    "print(ch_dog.kind)\n",
    "print(ej_dog.kind)"
   ]
  },
  {
   "cell_type": "code",
   "execution_count": 25,
   "metadata": {},
   "outputs": [],
   "source": [
    "class Cat :\n",
    "    tricks = [] # 추가 해볼거에용\n",
    "    def __init__(self, name) :\n",
    "        self.name = name\n",
    "    def add_trick(self, trick) :\n",
    "        self.tricks.append(trick) \n"
   ]
  },
  {
   "cell_type": "code",
   "execution_count": 26,
   "metadata": {},
   "outputs": [
    {
     "name": "stdout",
     "output_type": "stream",
     "text": [
      "milk\n",
      "cream\n"
     ]
    }
   ],
   "source": [
    "hb_cat1 = Cat('milk')\n",
    "hb_cat2 = Cat('cream')\n",
    "print(hb_cat1.name)\n",
    "print(hb_cat2.name)\n"
   ]
  },
  {
   "cell_type": "code",
   "execution_count": 27,
   "metadata": {},
   "outputs": [
    {
     "name": "stdout",
     "output_type": "stream",
     "text": [
      "['hi', 'hello']\n",
      "['hi', 'hello']\n"
     ]
    }
   ],
   "source": [
    "hb_cat1.add_trick('hi')\n",
    "hb_cat2.add_trick('hello')\n",
    "print(hb_cat1.tricks)\n",
    "print(hb_cat2.tricks)"
   ]
  },
  {
   "cell_type": "code",
   "execution_count": 28,
   "metadata": {},
   "outputs": [],
   "source": [
    "class Tiger :\n",
    "    def __init__(self, name) :\n",
    "        self.name = name # 인스턴스 변수 name\n",
    "        self.tricks = [] # 인스턴스 변수로 각각 값을 가져갈 수 있다.\n",
    "\n",
    "    def add_trick(self, trick) :\n",
    "        self.tricks.append(trick)\n",
    "    "
   ]
  },
  {
   "cell_type": "code",
   "execution_count": 30,
   "metadata": {},
   "outputs": [
    {
     "name": "stdout",
     "output_type": "stream",
     "text": [
      "<__main__.Tiger object at 0x000001E8F4A8B070>\n",
      "<__main__.Tiger object at 0x000001E8F4C61520>\n"
     ]
    }
   ],
   "source": [
    "my_tiger = Tiger('Ccobi') # 인스턴스\n",
    "your_tiger = Tiger('싸버지')\n",
    "print(my_tiger)\n",
    "print(your_tiger)"
   ]
  },
  {
   "cell_type": "code",
   "execution_count": 32,
   "metadata": {},
   "outputs": [
    {
     "name": "stdout",
     "output_type": "stream",
     "text": [
      "Ccobi\n",
      "싸버지\n"
     ]
    }
   ],
   "source": [
    "print(my_tiger.name)\n",
    "print(your_tiger.name)"
   ]
  },
  {
   "cell_type": "code",
   "execution_count": 35,
   "metadata": {},
   "outputs": [
    {
     "name": "stdout",
     "output_type": "stream",
     "text": [
      "['어흥', '어흥', '어흥']\n",
      "['크앙', '크앙', '크앙']\n"
     ]
    }
   ],
   "source": [
    "my_tiger.add_trick('어흥')\n",
    "your_tiger.add_trick('크앙')\n"
   ]
  },
  {
   "cell_type": "code",
   "execution_count": null,
   "metadata": {},
   "outputs": [],
   "source": []
  },
  {
   "cell_type": "code",
   "execution_count": null,
   "metadata": {},
   "outputs": [],
   "source": [
    "print(my_tiger.tricks)\n",
    "print(your_tiger.tricks)"
   ]
  },
  {
   "cell_type": "code",
   "execution_count": null,
   "metadata": {},
   "outputs": [],
   "source": []
  },
  {
   "cell_type": "code",
   "execution_count": 39,
   "metadata": {},
   "outputs": [
    {
     "name": "stdout",
     "output_type": "stream",
     "text": [
      "APPLE\n",
      "APPLE\n"
     ]
    }
   ],
   "source": [
    "fruit = 'apple'\n",
    "print(fruit.upper())\n",
    "print(str.upper(fruit))"
   ]
  },
  {
   "cell_type": "code",
   "execution_count": null,
   "metadata": {},
   "outputs": [],
   "source": []
  },
  {
   "cell_type": "code",
   "execution_count": null,
   "metadata": {},
   "outputs": [],
   "source": []
  },
  {
   "cell_type": "code",
   "execution_count": null,
   "metadata": {},
   "outputs": [],
   "source": [
    "# 객체 지향\n",
    "  #  클래스\n",
    "# 절차 지향\n",
    "   # 함수\n",
    "greeting"
   ]
  },
  {
   "cell_type": "code",
   "execution_count": 40,
   "metadata": {},
   "outputs": [
    {
     "name": "stdout",
     "output_type": "stream",
     "text": [
      "hello, youjin\n"
     ]
    }
   ],
   "source": [
    "# 절차 지향\n",
    "def greeting(name) :\n",
    "    return f'hello, {name}'\n",
    "print(greeting('youjin'))"
   ]
  },
  {
   "cell_type": "code",
   "execution_count": 42,
   "metadata": {},
   "outputs": [],
   "source": [
    "# 객체 지향\n",
    "# 데이터.greeting()\n",
    "\n",
    "class Person :\n",
    "    def __init__(self, name) :\n",
    "        self.name = name\n",
    "    def greeting(self) :\n",
    "        return f'hello, {self.name}'\n",
    "        pass"
   ]
  },
  {
   "cell_type": "code",
   "execution_count": 44,
   "metadata": {},
   "outputs": [
    {
     "name": "stdout",
     "output_type": "stream",
     "text": [
      "<__main__.Person object at 0x000001E8F4BC20D0>\n",
      "hello, gyuntak\n"
     ]
    }
   ],
   "source": [
    "my_name = Person('gyuntak')\n",
    "print(my_name) # 너 인스턴스야...\n",
    "my_name.name\n",
    "print(my_name.greeting()) # hello gyuntak"
   ]
  },
  {
   "cell_type": "code",
   "execution_count": null,
   "metadata": {},
   "outputs": [],
   "source": [
    "# class hello : # 좋지않다."
   ]
  },
  {
   "cell_type": "code",
   "execution_count": 49,
   "metadata": {},
   "outputs": [],
   "source": [
    "class Greeting : \n",
    "    \n",
    "    def __init__(self, name) :\n",
    "        self.name = name\n",
    "    \n",
    "    def hello(self) :\n",
    "        return f'hello, {self.name}'\n",
    "    def hihi(self) :\n",
    "        return f'hihi, {self.name}'\n",
    "    def bye(self) :\n",
    "        return f'bye, {self.name}'"
   ]
  },
  {
   "cell_type": "code",
   "execution_count": 50,
   "metadata": {},
   "outputs": [
    {
     "name": "stdout",
     "output_type": "stream",
     "text": [
      "gyun\n",
      "hello, gyun\n",
      "hihi, gyun\n",
      "bye, gyun\n"
     ]
    }
   ],
   "source": [
    "my_name = Greeting('gyun')\n",
    "print(my_name.name)\n",
    "print(my_name.hello())\n",
    "print(my_name.hihi())\n",
    "print(my_name.bye())"
   ]
  },
  {
   "cell_type": "code",
   "execution_count": null,
   "metadata": {},
   "outputs": [],
   "source": [
    "# 객체 지향\n",
    "# !!! 개발자의 눈에서 (관점에서) 편리하게 프로그래밍 하는 일 !!!\n",
    "# SRP(Single Responsibility Principle) = 단일 책임 원칙\n",
    "# 책임(클래스) <- 분리해서 관리하기 편리"
   ]
  }
 ],
 "metadata": {
  "kernelspec": {
   "display_name": "Python 3.9.13 64-bit",
   "language": "python",
   "name": "python3"
  },
  "language_info": {
   "codemirror_mode": {
    "name": "ipython",
    "version": 3
   },
   "file_extension": ".py",
   "mimetype": "text/x-python",
   "name": "python",
   "nbconvert_exporter": "python",
   "pygments_lexer": "ipython3",
   "version": "3.9.13"
  },
  "orig_nbformat": 4,
  "vscode": {
   "interpreter": {
    "hash": "3d3579b64ed644892bc49d0da2d1890659408e00eebf25200bc250e1696a02dd"
   }
  }
 },
 "nbformat": 4,
 "nbformat_minor": 2
}
