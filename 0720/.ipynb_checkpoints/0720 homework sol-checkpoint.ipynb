{
 "cells": [
  {
   "cell_type": "code",
   "execution_count": 7,
   "id": "7f00e227",
   "metadata": {},
   "outputs": [
    {
     "name": "stdout",
     "output_type": "stream",
     "text": [
      "[1, 3, 5, 7, 9, 11, 13, 15, 17, 19, 21, 23, 25, 27, 29, 31, 33, 35, 37, 39, 41, 43, 45, 47, 49]\n"
     ]
    }
   ],
   "source": [
    "# for i in range(1,51) :\n",
    "#    if i % 2 == i :\n",
    "        # 홀수\n",
    "a = list(range(1, 51))\n",
    "#answer = a[0:-1:2]\n",
    "answer = a[::2]\n",
    "print(answer)\n",
    "# b = a[0] # 1\n",
    "# c = a[-1] # 50"
   ]
  },
  {
   "cell_type": "code",
   "execution_count": 8,
   "id": "776da518",
   "metadata": {},
   "outputs": [
    {
     "name": "stdout",
     "output_type": "stream",
     "text": [
      "*****\n",
      "*****\n",
      "*****\n",
      "*****\n",
      "*****\n",
      "*****\n",
      "*****\n",
      "*****\n",
      "*****\n"
     ]
    }
   ],
   "source": [
    "width = 5\n",
    "height = 9\n",
    "\n",
    "for h in range(height) : \n",
    "    for w in range(width) : \n",
    "        print('*', end = '')\n",
    "    print()"
   ]
  },
  {
   "cell_type": "code",
   "execution_count": null,
   "id": "25507b8b",
   "metadata": {},
   "outputs": [],
   "source": [
    "temp = 36.5\n",
    "print('입실 불가') if temp >=37.5 else print('입실 가능\n",
    "                                         ')"
   ]
  },
  {
   "cell_type": "code",
   "execution_count": 37,
   "id": "2ce8647b",
   "metadata": {},
   "outputs": [],
   "source": [
    "def get_middle_char(a_str) : \n",
    "    middle_num = len('a_str') // 2\n",
    "    \n",
    "    # True == 1\n",
    "    # False == 0\n",
    "    if len(a_str) % 2 == 1 : # 홀수\n",
    "        middle = a_str[middle_num]\n",
    "    elif len(a_str) % 2 == 0 : \n",
    "        middle = a_str[middle_num - 1 : middle_num + 1]\n",
    "    return middle"
   ]
  },
  {
   "cell_type": "code",
   "execution_count": 38,
   "id": "ed838a90",
   "metadata": {},
   "outputs": [
    {
     "name": "stdout",
     "output_type": "stream",
     "text": [
      "a\n"
     ]
    }
   ],
   "source": [
    "print(get_middle_char('chanbin'))"
   ]
  },
  {
   "cell_type": "code",
   "execution_count": 39,
   "id": "8b40f53a",
   "metadata": {},
   "outputs": [],
   "source": [
    "a_country = 'honduras'\n",
    "def haley_len(a_str) : \n",
    "    cnt = 0\n",
    "    for _ in a_str :\n",
    "        cnt += 1\n",
    "    return cnt    "
   ]
  },
  {
   "cell_type": "code",
   "execution_count": 44,
   "id": "e2080170",
   "metadata": {},
   "outputs": [
    {
     "name": "stdout",
     "output_type": "stream",
     "text": [
      "8\n",
      "['h', 'o', 'n', 'd', 'u', 'r', 'a', 's']\n"
     ]
    }
   ],
   "source": [
    "print(haley_len(a_country))\n",
    "a_country = list(a_country)\n",
    "print(a_country)"
   ]
  }
 ],
 "metadata": {
  "kernelspec": {
   "display_name": "Python 3 (ipykernel)",
   "language": "python",
   "name": "python3"
  },
  "language_info": {
   "codemirror_mode": {
    "name": "ipython",
    "version": 3
   },
   "file_extension": ".py",
   "mimetype": "text/x-python",
   "name": "python",
   "nbconvert_exporter": "python",
   "pygments_lexer": "ipython3",
   "version": "3.9.13"
  }
 },
 "nbformat": 4,
 "nbformat_minor": 5
}
