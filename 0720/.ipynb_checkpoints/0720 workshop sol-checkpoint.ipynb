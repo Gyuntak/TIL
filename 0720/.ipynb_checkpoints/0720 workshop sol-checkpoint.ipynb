{
 "cells": [
  {
   "cell_type": "code",
   "execution_count": null,
   "id": "3ee100ce",
   "metadata": {},
   "outputs": [],
   "source": [
    "number = int(input())\n",
    "\n",
    "for i in range(1,number+1) : \n",
    "    if i == number : \n",
    "        print(i)\n",
    "    else : \n",
    "        print(i, end=', ')"
   ]
  },
  {
   "cell_type": "code",
   "execution_count": null,
   "id": "5d4676b2",
   "metadata": {},
   "outputs": [],
   "source": [
    "number = int(input())\n",
    "count = 0\n",
    "for i in range(number+1) :\n",
    "    count = count + i\n",
    "print(count)\n"
   ]
  },
  {
   "cell_type": "code",
   "execution_count": 3,
   "id": "d53cc2c0",
   "metadata": {},
   "outputs": [],
   "source": [
    "def a_sum() : \n",
    "    numb = int(input())\n",
    "    cnt = 0\n",
    "    for i in range(1, numb+1) :\n",
    "        cnt += i\n",
    "    print(cnt)"
   ]
  },
  {
   "cell_type": "code",
   "execution_count": 4,
   "id": "eaae60d6",
   "metadata": {},
   "outputs": [
    {
     "name": "stdout",
     "output_type": "stream",
     "text": [
      "7\n",
      "28\n",
      "None\n"
     ]
    }
   ],
   "source": [
    "b = a_sum()\n",
    "print(b)"
   ]
  },
  {
   "cell_type": "code",
   "execution_count": 2,
   "id": "ec40b377",
   "metadata": {},
   "outputs": [
    {
     "name": "stdout",
     "output_type": "stream",
     "text": [
      "7\n",
      "       *\n",
      "      **\n",
      "     ***\n",
      "    ****\n",
      "   *****\n",
      "  ******\n",
      " *******\n"
     ]
    }
   ],
   "source": [
    "N = int(input())\n",
    "for n in range(1, N+1):\n",
    "    for m in range(N-n, -1, -1) :\n",
    "        print(' ',end='')\n",
    "    print('*'*n)"
   ]
  }
 ],
 "metadata": {
  "kernelspec": {
   "display_name": "Python 3 (ipykernel)",
   "language": "python",
   "name": "python3"
  },
  "language_info": {
   "codemirror_mode": {
    "name": "ipython",
    "version": 3
   },
   "file_extension": ".py",
   "mimetype": "text/x-python",
   "name": "python",
   "nbconvert_exporter": "python",
   "pygments_lexer": "ipython3",
   "version": "3.9.13"
  }
 },
 "nbformat": 4,
 "nbformat_minor": 5
}
